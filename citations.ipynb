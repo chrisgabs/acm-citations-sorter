{
 "cells": [
  {
   "cell_type": "code",
   "execution_count": 31,
   "metadata": {},
   "outputs": [],
   "source": [
    "from collections import defaultdict"
   ]
  },
  {
   "cell_type": "code",
   "execution_count": 32,
   "metadata": {},
   "outputs": [],
   "source": [
    "f = open(\"citations.txt\", \"r\")\n",
    "citations = defaultdict(dict)\n",
    "for i,x in enumerate(f):\n",
    "    space = x.find(\" \")\n",
    "    old_num = x[:space]\n",
    "    title = x[space+1:-2]\n",
    "    citations[title][\"old\"] = old_num"
   ]
  },
  {
   "cell_type": "code",
   "execution_count": 33,
   "metadata": {},
   "outputs": [],
   "source": [
    "citations = sorted(citations.items(), key=lambda x: x[0])"
   ]
  },
  {
   "cell_type": "code",
   "execution_count": 34,
   "metadata": {},
   "outputs": [],
   "source": [
    "citations_updated = []\n",
    "for i,x in enumerate(citations):\n",
    "    # print(type(x))\n",
    "    x = x + (i+1,)\n",
    "    citations_updated.append(x)"
   ]
  },
  {
   "cell_type": "code",
   "execution_count": 35,
   "metadata": {},
   "outputs": [
    {
     "name": "stdout",
     "output_type": "stream",
     "text": [
      "2\n"
     ]
    }
   ],
   "source": [
    "print(len(citations[1]))"
   ]
  },
  {
   "cell_type": "code",
   "execution_count": 36,
   "metadata": {},
   "outputs": [
    {
     "name": "stdout",
     "output_type": "stream",
     "text": [
      "[0] -> 1\n",
      "[0] -> 2\n",
      "[0] -> 3\n",
      "[0] -> 4\n",
      "[0] -> 5\n",
      "[0] -> 6\n",
      "[0] -> 7\n",
      "[0] -> 8\n",
      "[0] -> 9\n",
      "[0] -> 10\n",
      "[0] -> 11\n",
      "[0] -> 12\n",
      "[0] -> 13\n",
      "[0] -> 14\n",
      "[0] -> 15\n",
      "[0] -> 16\n",
      "[0] -> 17\n",
      "[0] -> 18\n",
      "[0] -> 19\n"
     ]
    }
   ],
   "source": [
    "for x in citations_updated:\n",
    "    dic = x[1]\n",
    "    old = dic[\"old\"]\n",
    "    print(f\"{old} -> {x[2]}\")"
   ]
  },
  {
   "cell_type": "code",
   "execution_count": 37,
   "metadata": {},
   "outputs": [
    {
     "name": "stdout",
     "output_type": "stream",
     "text": [
      "[1] Accelya. 2022. About Us. (November 2022). Retrieved December 5, 2022 from https://w3.accelya.com/about-us/\n",
      "[2] Anon. 2002. S3. (2002). Retrieved December 5, 2022 from https://aws.amazon.com/s3/\n",
      "[3] Anon. Ransomware as a service (RAAS). Retrieved December 5, 2022 from https://www.trendmicro.com/vinfo/us/security/definition/ransomware-as-a-service-raa\n",
      "[4] Art Samaniego. 2022. Updated: Pal informs Mabuhay Miles members of a security incident. (September 2022). Retrieved December 5, 2022 from https://mb.com.ph/2022/09/11/pal-informs-mabuhay-miles-members-of-a-security-incident/\n",
      "[5] CNN Philippines Staff. 2022. Pal's Mabuhay Miles Suffers Data Breach. (September 2022). Retrieved December 5, 2022 from https://www.cnnphilippines.com/business/2022/9/11/PAL-Mabuhay-Miles-suffers-data-breach.html\n",
      "[6] Crowdstrike. 2022. Most common types of ransomware: CrowdStrike. (October 2022). Retrieved December 5, 2022 from https://www.crowdstrike.com/cybersecurity-101/ransomware/types-of-ransomware/\n",
      "[7] Elijah Felice Rosales. 2022. Data breach hits Mabuhay Miles | OneNews.PH. (September 2022). Retrieved December 5, 2022 from https://www.onenews.ph/articles/data-breach-hits-mabuhay-miles\n",
      "[8] Elijah Felice Rosales. 2022. Nearly 80% of Philippine firms hit by Data Breach. (November 2022). Retrieved December 5, 2022 from https://www.philstar.com/business/2022/11/30/2227344/nearly-80-philippine-firms-hit-data-breach\n",
      "[9] Elijah Felice Rosales. 2022. Pal Mabuhay Miles to tighten cybersecurity. (September 2022). Retrieved December 5, 2022 from https://www.philstar.com/business/2022/09/13/2209227/pal-mabuhay-miles-tighten-cybersecurity\n",
      "[10] Eric Fish. 2022. Ransomware gang highlights third-Party risk. (September 2022). Retrieved December 5, 2022 from https://www.privatefundscfo.com/ransomware-gang-highlights-third-party-risk/\n",
      "[11] Jonathan Greig. 2022. Major airline technology provider Accelya attacked by Ransomware Group. (August 2022). Retrieved December 5, 2022 from https://therecord.media/major-airline-technology-provider-accelya-attacked-by-ransomware-group/\n",
      "[12] Neil. 2022. Philippines 23rd most affected globally by data breaches in Q3. (October 2022). Retrieved December 5, 2022 from https://www.bworldonline.com/infographics/2022/10/28/483507/philippines-23rd-most-affected-globally-by-data-breaches-in-q3/\n",
      "[13] Pranjal Pande. 2022. Philippine Airlines suffers cyberattack with frequent flyer program. (September 2022). Retrieved December 5, 2022 from https://simpleflying.com/philippine-airlines-cyberattack-frequent-flier/\n",
      "[14] Raffy Ayeng. 2022. PAL reports 'Limited Data Breach' on Mabuhay Miles Holder - Daily Tribune. (September 2022). Retrieved December 5, 2022 from https://tribune.net.ph/2022/09/11/pal-reports-limited-data-breach-on-mabuhay-miles-holder/\n",
      "[15] Robert Lemos. 2022. Aggressive BlackCat ransomware on the rise. (January 2022). Retrieved December 5, 2022 from https://www.darkreading.com/threat-intelligence/aggressive-blackcat-ransomware-on-the-rise\n",
      "[16] Ted Cordero. 2022. PAL reports 'cybersecurity incident' in Mabuhay Miles Loyalty Program. (September 2022). Retrieved December 5, 2022 from https://www.gmanetwork.com/news/money/companies/844418/pal-reports-cybersecurity-incident-in-mabuhay-miles-loyalty-program/story/\n",
      "[17] Tiziana Celine Piatos. 2022. Pal uncovers cybersecurity threat. (September 2022). Retrieved December 5, 2022 from https://www.manilatimes.net/2022/09/12/business/top-business/pal-uncovers-cybersecurity-threat/1858153\n",
      "[18] Trellix. What is ransomware? Retrieved December 5, 2022 from https://www.trellix.com/en-us/security-awareness/ransomware/what-is-ransomware.html\n",
      "[19] Trend Micro. 2022. Ransomware spotlight: BlackCat. (October 2022). Retrieved December 5, 2022 from https://www.trendmicro.com/vinfo/us/security/news/ransomware-spotlight/ransomware-spotlight-blackcat\n"
     ]
    }
   ],
   "source": [
    "f = open(\"output.txt\", \"a\")\n",
    "for x in citations_updated:\n",
    "    dic = x[1]\n",
    "    old = dic[\"old\"]\n",
    "    to_write = f\"[{x[2]}] {x[0]}\"\n",
    "    print(to_write)\n",
    "    f.write(to_write + \"\\n\")\n",
    "f.close()\n",
    "    "
   ]
  }
 ],
 "metadata": {
  "kernelspec": {
   "display_name": "Python 3.11.0 64-bit",
   "language": "python",
   "name": "python3"
  },
  "language_info": {
   "codemirror_mode": {
    "name": "ipython",
    "version": 3
   },
   "file_extension": ".py",
   "mimetype": "text/x-python",
   "name": "python",
   "nbconvert_exporter": "python",
   "pygments_lexer": "ipython3",
   "version": "3.11.0"
  },
  "orig_nbformat": 4,
  "vscode": {
   "interpreter": {
    "hash": "0592f68fb2c82d079b557c2d4c2f2518d939489ad4a09b6414130bcd85cc09a4"
   }
  }
 },
 "nbformat": 4,
 "nbformat_minor": 2
}
