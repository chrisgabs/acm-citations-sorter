{
 "cells": [
  {
   "cell_type": "code",
   "execution_count": 14,
   "metadata": {},
   "outputs": [],
   "source": [
    "citations = [16,3,5,14,31,12,24,21,23,31,12,1,26,24,21,23,31,12,1,19,30,3,6,35,]"
   ]
  },
  {
   "cell_type": "code",
   "execution_count": 19,
   "metadata": {},
   "outputs": [
    {
     "name": "stdout",
     "output_type": "stream",
     "text": [
      "[1, 3, 5, 6, 12, 14, 16, 19, 21, 23, 24, 26, 30, 31, 35]\n",
      "15\n"
     ]
    }
   ],
   "source": [
    "citations_unique = set()\n",
    "for x in citations:\n",
    "    citations_unique.add(x)\n",
    "citations_unique = sorted(citations_unique)\n",
    "print(citations_unique)\n",
    "print(len(citations_unique))"
   ]
  },
  {
   "cell_type": "code",
   "execution_count": 40,
   "metadata": {},
   "outputs": [],
   "source": [
    "from collections import defaultdict"
   ]
  },
  {
   "cell_type": "code",
   "execution_count": 131,
   "metadata": {},
   "outputs": [],
   "source": [
    "f = open(\"citations.txt\", \"r\")\n",
    "citations = defaultdict(dict)\n",
    "for i,x in enumerate(f):\n",
    "    space = x.find(\" \")\n",
    "    old_num = x[:space]\n",
    "    title = x[space+1:-2]\n",
    "    citations[title][\"old\"] = old_num"
   ]
  },
  {
   "cell_type": "code",
   "execution_count": 132,
   "metadata": {},
   "outputs": [],
   "source": [
    "citations = sorted(citations.items(), key=lambda x: x[0])"
   ]
  },
  {
   "cell_type": "code",
   "execution_count": 133,
   "metadata": {},
   "outputs": [],
   "source": [
    "citations_updated = []\n",
    "for i,x in enumerate(citations):\n",
    "    # print(type(x))\n",
    "    x = x + (i+1,)\n",
    "    citations_updated.append(x)"
   ]
  },
  {
   "cell_type": "code",
   "execution_count": 116,
   "metadata": {},
   "outputs": [
    {
     "name": "stdout",
     "output_type": "stream",
     "text": [
      "2\n"
     ]
    }
   ],
   "source": [
    "print(len(citations[1]))"
   ]
  },
  {
   "cell_type": "code",
   "execution_count": 134,
   "metadata": {},
   "outputs": [
    {
     "name": "stdout",
     "output_type": "stream",
     "text": [
      "35 -> 1\n",
      "0 -> 2\n",
      "0 -> 3\n",
      "0 -> 4\n",
      "3 -> 5\n",
      "5 -> 6\n",
      "6 -> 7\n",
      "0 -> 8\n",
      "0 -> 9\n",
      "0 -> 10\n",
      "12 -> 11\n",
      "14 -> 12\n",
      "16 -> 13\n",
      "19 -> 14\n",
      "0 -> 15\n",
      "0 -> 16\n",
      "30 -> 17\n",
      "31 -> 18\n",
      "0 -> 19\n"
     ]
    }
   ],
   "source": [
    "for x in citations_updated:\n",
    "    dic = x[1]\n",
    "    old = dic[\"old\"]\n",
    "    print(f\"{old} -> {x[2]}\")"
   ]
  },
  {
   "cell_type": "code",
   "execution_count": 135,
   "metadata": {},
   "outputs": [
    {
     "name": "stdout",
     "output_type": "stream",
     "text": [
      "[1] Abcd-Edu. 2022. Hate-speech-SVM-model/obscene-words.csv at main Â· ABCD-edu/hate-speech-SVM-model. (April 2022). Retrieved May 27, 2022 from https://github.com/ABCD-EDU/hate-speech-SVM-model/blob/main/res/obscene-words.csv\n",
      "[2] Aditya Gaydhani, Vikrant Doma, Shrikant Kendre, and Laxmi Bhagwat. 2018. Detecting hate speech and offensive language on Twitter using machine learning: An N-gram and TFIDF based approach. (September 2018). Retrieved May 21, 2022 from https://arxiv.org/abs/1809.0865\n",
      "[3] Andre Ricardo Goncalves and Maria Angelica de Oliveira Camargo-Brunetto. 2010. Classification of poincarÃ© plots for temporal series of heart rate variability by using machine learning techniques. 2010 10th International Conference on Intelligent Systems Design and Applications (2010). DOI:http://dx.doi.org/10.1109/isda.2010.568722\n",
      "[4] Anon. 2019. Understanding TF-ID: A simple introduction. (May 2019). Retrieved May 21, 2022 from https://monkeylearn.com/blog/what-is-tf-idf\n",
      "[5] Arsht, A and Etcovitch, D. 2018. The human cost of online content moderation. (March 2018). Retrieved May 18, 2022 from https://jolt.law.harvard.edu/digest/the-human-cost-of-online-content-moderation\n",
      "[6] Billy Perrigo. 2019. Facebook's hate speech algorithms leave out some languages. (November 2019). Retrieved May 18, 2022 from https://time.com/5739688/facebook-hate-speech-languages\n",
      "[7] Binny Matthew, Punyajoy Saha, Seid Yimam, Chris Biemann, Pawan Goyal, and Animesh Mukherjee. 2020. Papers with code - HateXplain: A benchmark dataset for explainable hate speech detection. (December 2020). Retrieved April 25, 2022 from https://paperswithcode.com/paper/hatexplain-a-benchmark-dataset-for\n",
      "[8] Fabio Del Vigna, Andrea Cimino, Felice Dellâ€™Orletta, Marinella Petrocchi, and Maurizio Tesconi. 2017. Hate me, hate me not: Hate speech detection on Facebook. (January 2017). Retrieved March 12, 2022 from https://www.researchgate.net/profile/Fabio-Del-Vigna/publication/316971988_Hate_me_hate_me_not_Hate_speech_detection_on_Facebook/links/591af15d0f7e9beed7f5ff61/Hate-me-hate-me-not-Hate-speech-detection-on-Facebook.pd\n",
      "[9] Huseyn Hasanli and Samir Rustamov. 2019. Sentiment analysis of Azerbaijani twits using logistic regression, naive Bayes and SVM. 2019 IEEE 13th International Conference on Application of Information and Communication Technologies (AICT) (2019). DOI:http://dx.doi.org/10.1109/aict47866.2019.898179\n",
      "[10] Inna Vogel and Meghana Meghana. 2021. Profiling hate speech spreaders on Twitter ... - ceur-ws.org. (September 2021). Retrieved March 14, 2022 from http://ceur-ws.org/Vol-2936/paper-196.pdf\n",
      "[11] Jacob Devlin, Ming-Wei Chang, Kenton Lee, and Kristina Toutanova. 2018. BERT: Pre-training of Deep Bidirectional Transformers for Language Understanding. (October 2018). DOI:https://doi.org/10.48550/arXiv.1810.0480\n",
      "[12] Keen, F., & Keen, F. (2020, October 1). Online subcultures and the challenges of moderation. GNET. Retrieved May 26, 2022, from https://gnet-research.org/2020/10/01/online-subcultures-and-the-challenges-of-moderation/\n",
      "[13] Koustuv Saha, Eshwar Chandrasekharan, and Munmun De Choudhury. 2019. Prevalence and psychological effects of hateful speech in online college communities. Proceedings of the 10th ACM Conference on Web Science (2019). DOI:http://dx.doi.org/10.1145/3292522.332603\n",
      "[14] Mark Scott and Laura Kayali. 2020. What happened when humans stopped managing social media content. (October 2020). Retrieved May 18, 2022 from https://www.politico.eu/article/facebook-content-moderation-automatio\n",
      "[15] Md Saroar Jahan and Mourad Oussalah. 2021. A systematic review of hate speech automatic detection using Natural Language Processing. (May 2021). Retrieved March 14, 2022 from https://arxiv.org/abs/2106.00742\n",
      "[16] Njagi Dennis Gitari, Zhang Zuping, Hanyurwimfura Damien, and Jun Long. 2015. A lexicon-based approach for hate speech detection. (2015). Retrieved March 14, 2022 from https://preventviolentextremism.info/sites/default/files/A%20Lexicon-Based%20Approach%20for%20Hate%20Speech%20Detection.pd\n",
      "[17] Steiger, M. Bharucha, T. Venkatagiri, S. Riedl, M. and Lease, M.  2021. The Psychological Well-Being of Content Moderators. (May 2021). Retrieved May 18, 2022 from https://crowd.cs.vt.edu/wp-content/uploads/2021/02/CHI21_final__The_Psychological_Well_Being_of_Content_Moderators-2.pdf\n",
      "[18] Sudhanshu Mishra, Shivangi Prasad, and Shubhanshu Mishra. 2021. Exploring multi-task multi-lingual learning of Transformer models for hate speech and offensive speech identification in social media. SN Computer Science 2, 2 (2021). DOI:http://dx.doi.org/10.1007/s42979-021-00455-\n",
      "[19] Swati Agarwal and Ashish Sureka. 2015. Using KNN and SVM based one-class classifier for detecting online radicalization on Twitter. (February 2015). Retrieved March 14, 2022 from https://link.springer.com/chapter/10.1007/978-3-319-14977-6_4\n"
     ]
    }
   ],
   "source": [
    "for x in citations_updated:\n",
    "    dic = x[1]\n",
    "    old = dic[\"old\"]\n",
    "    print(f\"[{x[2]}] {x[0]}\")\n",
    "    "
   ]
  }
 ],
 "metadata": {
  "interpreter": {
   "hash": "683bf24e2bbf755c5f996764453fd2964c8a281735da13ddd37f4df27ea665f9"
  },
  "kernelspec": {
   "display_name": "Python 3.8.10 64-bit",
   "language": "python",
   "name": "python3"
  },
  "language_info": {
   "codemirror_mode": {
    "name": "ipython",
    "version": 3
   },
   "file_extension": ".py",
   "mimetype": "text/x-python",
   "name": "python",
   "nbconvert_exporter": "python",
   "pygments_lexer": "ipython3",
   "version": "3.8.10"
  },
  "orig_nbformat": 4
 },
 "nbformat": 4,
 "nbformat_minor": 2
}
